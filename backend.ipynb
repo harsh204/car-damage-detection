{
 "cells": [
  {
   "cell_type": "code",
   "execution_count": 1,
   "id": "9fd6c7a0-7d8d-4e85-ad57-5b2b28fa8d50",
   "metadata": {},
   "outputs": [],
   "source": [
    "from fastapi import FastAPI, UploadFile\n",
    "from PIL import Image"
   ]
  },
  {
   "cell_type": "code",
   "execution_count": 2,
   "id": "8c6f65c8-f1aa-4f6e-950f-e22db7c5a6cc",
   "metadata": {},
   "outputs": [],
   "source": [
    "app = FastAPI()\n",
    "\n",
    "@app.get(\"/\")\n",
    "def hello():\n",
    "    return {\"message\": \"hello\"}\n",
    "\n",
    "@app.post(\"/upload\")\n",
    "async def create_upload_file(file: UploadFile):\n",
    "    return {\"filename\": file.filename}"
   ]
  },
  {
   "cell_type": "code",
   "execution_count": 5,
   "id": "d08ea043-1100-4943-81d8-e3e62a87d635",
   "metadata": {},
   "outputs": [
    {
     "ename": "AttributeError",
     "evalue": "'FastAPI' object has no attribute 'run'",
     "output_type": "error",
     "traceback": [
      "\u001b[0;31m---------------------------------------------------------------------------\u001b[0m",
      "\u001b[0;31mAttributeError\u001b[0m                            Traceback (most recent call last)",
      "Cell \u001b[0;32mIn[5], line 1\u001b[0m\n\u001b[0;32m----> 1\u001b[0m \u001b[43mapp\u001b[49m\u001b[38;5;241;43m.\u001b[39;49m\u001b[43mrun\u001b[49m()\n",
      "\u001b[0;31mAttributeError\u001b[0m: 'FastAPI' object has no attribute 'run'"
     ]
    }
   ],
   "source": [
    "app.run()"
   ]
  },
  {
   "cell_type": "code",
   "execution_count": 1,
   "id": "0cfb8247-fa21-4abd-ae24-2d2572e5f81a",
   "metadata": {},
   "outputs": [],
   "source": [
    "from ultralytics import YOLO\n",
    "from PIL import Image\n",
    "import os\n",
    "import sys\n",
    "import random"
   ]
  },
  {
   "cell_type": "code",
   "execution_count": 2,
   "id": "354ffd5f-a74f-48ee-ad7e-89a9e2ab42aa",
   "metadata": {},
   "outputs": [],
   "source": [
    "model_type = \"segment\"\n",
    "\n",
    "dataset = \"\"\n",
    "\n",
    "if model_type==\"segment\":\n",
    "    dataset = \"./datasets/car-damage-detection-3/data.yaml\"\n",
    "else:\n",
    "    dataset = \"./datasets/Object-Detection-Car-Damage-1/data.yaml\""
   ]
  },
  {
   "cell_type": "code",
   "execution_count": 3,
   "id": "21dbe2f6-6db3-4508-a506-7a69f3efdbea",
   "metadata": {},
   "outputs": [],
   "source": [
    "model_list = [\"best medium 8 classes.pt\", \n",
    "              \"detect best 3 classes.pt\", \n",
    "              \"object detect 60 epoch.pt\", \n",
    "              \"object detect 70 epoch.pt\", \n",
    "              \"object detection 80 epochs.pt\", \n",
    "              \"object detect 95 epochs.pt\"]"
   ]
  },
  {
   "cell_type": "code",
   "execution_count": 7,
   "id": "0dc579ae-9e71-4d83-8cbc-8ff6050f6519",
   "metadata": {},
   "outputs": [],
   "source": [
    "model_name = model_list[1]"
   ]
  },
  {
   "cell_type": "code",
   "execution_count": 8,
   "id": "b3c6eb4c-cc6d-457f-a73d-893d138df8b7",
   "metadata": {},
   "outputs": [],
   "source": [
    "model = YOLO(f\"./models/{model_name}\")"
   ]
  },
  {
   "cell_type": "code",
   "execution_count": 12,
   "id": "af207a4e-c3ff-410e-b805-5455cc47dac5",
   "metadata": {},
   "outputs": [],
   "source": [
    "image_names = os.listdir(\"./Car damage detection.v3i.yolov8/valid/images\")\n",
    "random.shuffle(image_names)\n",
    "image_names = image_names[:30]"
   ]
  },
  {
   "cell_type": "code",
   "execution_count": 14,
   "id": "900d3550-ce47-464e-9145-b1a95eb586d7",
   "metadata": {},
   "outputs": [],
   "source": [
    "image_paths = [\"./Car damage detection.v3i.yolov8/valid/images/\"+image_name for image_name in image_names]"
   ]
  },
  {
   "cell_type": "code",
   "execution_count": 6,
   "id": "1e9c8ade-ca7a-415b-942b-f73de809d5d6",
   "metadata": {},
   "outputs": [],
   "source": [
    "images = [Image.open(image_path) for image_path in image_paths]"
   ]
  },
  {
   "cell_type": "code",
   "execution_count": 7,
   "id": "c2a6d711-4cbd-4239-a11b-42b4b60a4a49",
   "metadata": {},
   "outputs": [
    {
     "name": "stdout",
     "output_type": "stream",
     "text": [
      "\n",
      "0: 640x640 1 Light, 1: 640x640 1 Door, 2: 640x640 1 Bumper, 1 Dickey, 3: 640x640 1 Fender, 1 Light, 4: 640x640 (no detections), 5: 640x640 1 Fender, 6: 640x640 1 Door, 7: 640x640 2 Doors, 8: 640x640 1 Bumper, 1 Fender, 9: 640x640 1 Bumper, 10: 640x640 1 Windshield, 11: 640x640 1 Door, 1 Light, 12: 640x640 (no detections), 13: 640x640 1 Bumper, 14: 640x640 1 Light, 15: 640x640 1 Bonnet, 1 Bumper, 2 Lights, 16: 640x640 1 Bumper, 17: 640x640 (no detections), 18: 640x640 1 Fender, 19: 640x640 2 Doors, 1 Light, 20: 640x640 1 Door, 1 Fender, 21: 640x640 (no detections), 22: 640x640 1 Bumper, 1 Fender, 1 Light, 23: 640x640 1 Bumper, 24: 640x640 1 Fender, 25: 640x640 1 Fender, 26: 640x640 1 Light, 27: 640x640 1 Door, 1 Fender, 28: 640x640 1 Bumper, 29: 640x640 (no detections), 1587.0ms\n",
      "Speed: 2.0ms preprocess, 52.9ms inference, 12.6ms postprocess per image at shape (1, 3, 640, 640)\n"
     ]
    }
   ],
   "source": [
    "results = model.predict(images)"
   ]
  },
  {
   "cell_type": "code",
   "execution_count": 11,
   "id": "f6a5869f-48db-4059-a421-76322253dd5e",
   "metadata": {},
   "outputs": [],
   "source": [
    "os.mkdir(f\"./Results/{model_name}\")"
   ]
  },
  {
   "cell_type": "code",
   "execution_count": 15,
   "id": "4b549efd-5ebe-494d-9b13-4c904f77da68",
   "metadata": {},
   "outputs": [],
   "source": [
    "path = f\"./Results/{model_name}\""
   ]
  },
  {
   "cell_type": "code",
   "execution_count": 16,
   "id": "48de349f-b77e-4b9f-8515-673ba8fcb1f4",
   "metadata": {},
   "outputs": [],
   "source": [
    "def save_images(result, image_name, path):\n",
    "    im_array = result.plot()  # plot a BGR numpy array of predictions\n",
    "    im = Image.fromarray(im_array[..., ::-1])  # RGB PIL image\n",
    "    im.save(f'{path}/{image_name}')\n"
   ]
  },
  {
   "cell_type": "code",
   "execution_count": 17,
   "id": "531db8e9-ec0d-4e2a-9ccf-ce9e9f9b12eb",
   "metadata": {},
   "outputs": [],
   "source": [
    "for i in range(len(results)):\n",
    "    save_images(results[i], image_names[i], path)"
   ]
  },
  {
   "cell_type": "code",
   "execution_count": null,
   "id": "6580c226-69e0-4ab3-ac42-8ce2349531f0",
   "metadata": {},
   "outputs": [],
   "source": []
  },
  {
   "cell_type": "code",
   "execution_count": 18,
   "id": "93e957fd-98de-4210-b7d2-81c86302f908",
   "metadata": {},
   "outputs": [
    {
     "name": "stdout",
     "output_type": "stream",
     "text": [
      "loading Roboflow workspace...\n",
      "loading Roboflow project...\n",
      "Dependency ultralytics==8.0.196 is required but found version=8.0.237, to fix: `pip install ultralytics==8.0.196`\n"
     ]
    },
    {
     "name": "stderr",
     "output_type": "stream",
     "text": [
      "Downloading Dataset Version Zip in Object-Detection-Car-Damage-1 to yolov8:: 100"
     ]
    },
    {
     "name": "stdout",
     "output_type": "stream",
     "text": [
      "\n"
     ]
    },
    {
     "name": "stderr",
     "output_type": "stream",
     "text": [
      "\n",
      "Extracting Dataset Version Zip to Object-Detection-Car-Damage-1 in yolov8:: 100%\n"
     ]
    }
   ],
   "source": [
    "\n",
    "from roboflow import Roboflow\n",
    "rf = Roboflow(api_key=\"4CYtMECVZIaiVUXX1LAx\")\n",
    "project = rf.workspace(\"trialworkspace-n8ail\").project(\"object-detection-car-damage\")\n",
    "dataset = project.version(1).download(\"yolov8\")\n"
   ]
  },
  {
   "cell_type": "code",
   "execution_count": 19,
   "id": "debbaae2-2ed7-4b41-8281-9c1d9b781f0c",
   "metadata": {},
   "outputs": [
    {
     "name": "stdout",
     "output_type": "stream",
     "text": [
      "loading Roboflow workspace...\n",
      "loading Roboflow project...\n",
      "Dependency ultralytics==8.0.196 is required but found version=8.0.237, to fix: `pip install ultralytics==8.0.196`\n"
     ]
    },
    {
     "name": "stderr",
     "output_type": "stream",
     "text": [
      "Downloading Dataset Version Zip in car-damage-detection-3 to yolov8:: 100%|█| 25"
     ]
    },
    {
     "name": "stdout",
     "output_type": "stream",
     "text": [
      "\n"
     ]
    },
    {
     "name": "stderr",
     "output_type": "stream",
     "text": [
      "\n",
      "Extracting Dataset Version Zip to car-damage-detection-3 in yolov8:: 100%|█| 117\n"
     ]
    }
   ],
   "source": [
    "\n",
    "from roboflow import Roboflow\n",
    "rf = Roboflow(api_key=\"4CYtMECVZIaiVUXX1LAx\")\n",
    "project = rf.workspace(\"trialworkspace-n8ail\").project(\"car-damage-detection-hndoe\")\n",
    "dataset = project.version(3).download(\"yolov8\")\n"
   ]
  },
  {
   "cell_type": "code",
   "execution_count": 30,
   "id": "6cb5a5a3-2c9c-4f59-a725-cdf6c63feee8",
   "metadata": {},
   "outputs": [
    {
     "data": {
      "text/plain": [
       "'./datasets/car-damage-detection-3/data.yaml'"
      ]
     },
     "execution_count": 30,
     "metadata": {},
     "output_type": "execute_result"
    }
   ],
   "source": [
    "dataset"
   ]
  },
  {
   "cell_type": "code",
   "execution_count": 32,
   "id": "81958868-7945-43e3-90e6-81cb6dd82b05",
   "metadata": {},
   "outputs": [
    {
     "name": "stdout",
     "output_type": "stream",
     "text": [
      "Ultralytics YOLOv8.0.237 🚀 Python-3.10.12 torch-2.1.2+cu121 CUDA:0 (NVIDIA GeForce GTX 1650, 3904MiB)\n"
     ]
    },
    {
     "name": "stderr",
     "output_type": "stream",
     "text": [
      "\u001b[34m\u001b[1mval: \u001b[0mScanning /home/parth/Desktop/hackvita/datasets/car-damage-detection-3/valid\u001b[0m\n",
      "                 Class     Images  Instances      Box(P          R      mAP50  m\n"
     ]
    },
    {
     "name": "stdout",
     "output_type": "stream",
     "text": [
      "                   all         48         93     0.0322     0.0961     0.0283    0.00974     0.0197     0.0587      0.011    0.00318\n",
      "                Bonnet         48         41     0.0551      0.171     0.0612     0.0193     0.0315     0.0976     0.0179    0.00358\n",
      "                Bumper         48          1          0          0          0          0          0          0          0          0\n",
      "                Dickey         48         51     0.0414      0.118     0.0238    0.00997     0.0276     0.0784      0.015    0.00596\n",
      "Speed: 4.2ms preprocess, 58.4ms inference, 0.0ms loss, 2.6ms postprocess per image\n",
      "Results saved to \u001b[1mruns/segment/val4\u001b[0m\n"
     ]
    }
   ],
   "source": [
    "vals = model.val(data=dataset)"
   ]
  },
  {
   "cell_type": "code",
   "execution_count": 34,
   "id": "b3159867-bc7a-4c56-b51d-d3af8dc094c3",
   "metadata": {},
   "outputs": [
    {
     "data": {
      "text/plain": [
       "array([    0.02285,           0,    0.015921,    0.012924,    0.012924,    0.012924,    0.012924])"
      ]
     },
     "execution_count": 34,
     "metadata": {},
     "output_type": "execute_result"
    }
   ],
   "source": [
    "vals.maps"
   ]
  },
  {
   "cell_type": "code",
   "execution_count": 39,
   "id": "b04a8222-4519-47bd-8961-e4a4d890b660",
   "metadata": {},
   "outputs": [],
   "source": [
    "with open(\"testfile\", \"a\") as file:\n",
    "    file.write(model_name+\"\\n\")\n",
    "    file.write(\"maps= \"+str(vals.maps)+\"\\n\")\n",
    "    file.write(\"confusion_matrix= \"+str(vals.confusion_matrix)+\"\\n\")\n",
    "    file.write(\"f1_score= \"+str(vals.box.f1)+\"\\n\")"
   ]
  },
  {
   "cell_type": "code",
   "execution_count": 51,
   "id": "a26e5d73-fd1a-4eaf-9273-e8171e8d6c4e",
   "metadata": {},
   "outputs": [
    {
     "data": {
      "text/plain": [
       "(3,)"
      ]
     },
     "execution_count": 51,
     "metadata": {},
     "output_type": "execute_result"
    }
   ],
   "source": [
    "vals.box.f1.shape"
   ]
  },
  {
   "cell_type": "code",
   "execution_count": 9,
   "id": "cfb0d48f-6754-4ca4-b07a-3b487fa6f7b8",
   "metadata": {},
   "outputs": [
    {
     "data": {
      "text/plain": [
       "'detect'"
      ]
     },
     "execution_count": 9,
     "metadata": {},
     "output_type": "execute_result"
    }
   ],
   "source": [
    "model.task"
   ]
  }
 ],
 "metadata": {
  "kernelspec": {
   "display_name": "Python 3 (ipykernel)",
   "language": "python",
   "name": "python3"
  },
  "language_info": {
   "codemirror_mode": {
    "name": "ipython",
    "version": 3
   },
   "file_extension": ".py",
   "mimetype": "text/x-python",
   "name": "python",
   "nbconvert_exporter": "python",
   "pygments_lexer": "ipython3",
   "version": "3.10.12"
  }
 },
 "nbformat": 4,
 "nbformat_minor": 5
}
